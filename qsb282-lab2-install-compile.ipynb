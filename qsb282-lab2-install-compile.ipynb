{
 "cells": [
  {
   "cell_type": "markdown",
   "metadata": {},
   "source": [
    "# QSB282 Bioinformatics Lab Assignment 2: Computer Literacy"
   ]
  },
  {
   "cell_type": "markdown",
   "metadata": {},
   "source": [
    "Computer Literacy / Using, Compiling, Installing UNIX Software "
   ]
  },
  {
   "cell_type": "markdown",
   "metadata": {},
   "source": [
    "# Instructions to Complete this Assignment"
   ]
  },
  {
   "cell_type": "markdown",
   "metadata": {},
   "source": [
    "1. Enter your name on this line: Songtao Ye\n",
    "1. Enter the names of those who helped you on this assignment: Ali Heydari,Ben Hwang,and Ruihao Li\n",
    "1. Answer as many of the questions as you can,\n",
    "1. Upload your `.ipynb` file in catcourses under Assignment 2 (**At this stage, I recommend working in your terminal to do the assignment and using the notebook only to document and communicate your finalized and corrected work.**)"
   ]
  },
  {
   "cell_type": "markdown",
   "metadata": {},
   "source": [
    "# Theory Questions"
   ]
  },
  {
   "cell_type": "markdown",
   "metadata": {},
   "source": [
    "## Finite State Machines I \n",
    "Find in the lecture notes the FSM with three states that takes as its input set $\\{x,y,z\\}$ and its output set $\\{u,v,w,x\\}$. Suppose that the following data is input to the machine: $xxxyyyzzzxxxyyyzzz$. What output sequence will the machine produce, and what sequence of states will the machine transition through with this input? (HINT: the output sequence can be shorter than the input sequence, but the state sequence must be the same length as the input sequence)"
   ]
  },
  {
   "cell_type": "markdown",
   "metadata": {},
   "source": [
    "**Your answer**: output sequence: uuuxxxvvvx \n",
    "<br>\n",
    "sequence of states: AAAAAABABBBBCCCCCC"
   ]
  },
  {
   "cell_type": "markdown",
   "metadata": {},
   "source": [
    "## Finite State Machines II\n",
    "The output of one FSM can be used as input to another. This is called putting two machines *in series.* Suppose that two copies of the same FSM (call them $A$ and $B$) that you analyzed in the previous problem are hooked up in series. The two machines in series make a larger FSM (call it $AB$) with one input and one output. The same input sequence as in previous problem is given to this FSM: $xxxyyyzzzxxxyyyzzz$. What will be the output of FSM $AB$, and what will the state of FSM $B$ be in after it has processed this input?"
   ]
  },
  {
   "cell_type": "markdown",
   "metadata": {},
   "source": [
    "  **Your answer**:  output sequence: uuuu \n",
    "  <br>\n",
    "                    the final state will be A in FSM B"
   ]
  },
  {
   "cell_type": "markdown",
   "metadata": {},
   "source": [
    "## Binary numbers \n",
    "When we write numbers in the decimal system, we talk about the “ones place,” the “tens place,” the “hundreds” place and so on, so we can write a number like 594 in terms of successive powers of 10 like so (the following markdown uses $\\LaTeX$ to render mathematical expression):\n",
    "\n",
    "$4 \\times (10^0) + 9 \\times (10^1) + 5 \\times (10^2)$\n",
    "\n",
    "Use this representation, but with successive powers of two instead of ten, to breakdown and calculate the value of the following binary number in decimal notation, showing your work for full credit (the initial `0b` just means the number is in binary):\n",
    "\n",
    "`0b10101`"
   ]
  },
  {
   "cell_type": "markdown",
   "metadata": {},
   "source": [
    "**Your answer**:$1 \\times (2^0) + 0 \\times (2^1) + 1 \\times (2^2)+0\\times (2^3)+1\\times (2^4)= 21$"
   ]
  },
  {
   "cell_type": "markdown",
   "metadata": {},
   "source": [
    "## Hexadecimal numbers \n",
    "What is the value of `0x4C` in decimal? (Show your work in the form: $X \\times (Y^Z) + U \\times (V^W) + A \\times (B^C)$)"
   ]
  },
  {
   "cell_type": "markdown",
   "metadata": {},
   "source": [
    "**Your answer**:$12 \\times (16^0) + 4 \\times (16^1)= 76$"
   ]
  },
  {
   "cell_type": "markdown",
   "metadata": {},
   "source": [
    "## URLs, Google and base conversion of numbers\n",
    "A *URL* or *Universal Resource Locator* is the address of a web resource, which is what appears in the address bar of your web browser when you visit that resource. Figure out how to use Google to calculate the value of the **binary number** `0b1100010010001` in hexadecimal, and then give the URL to perform this conversion at Google (when you cut and paste the URL into your web browser, it should perform the conversion)."
   ]
  },
  {
   "cell_type": "markdown",
   "metadata": {},
   "source": [
    "**Your answer**:The URL :https://www.google.com/search?sxsrf=ACYBGNTO44ILt3W8jichoXB5lxM4P5YV5Q%3A1568148608249&source=hp&ei=gAx4XcPkDIvB-wS86rHgCg&q=0b1100010010001+in+hexadecimal&oq=&gs_l=psy-ab.1.0.35i362i39l10.0.0..1885...0.0..0.81.81.1......0......gws-wiz.....10.RJVL-FmOx_g\n",
    "\n",
    "The hexadecimal coversion is :0x1891"
   ]
  },
  {
   "cell_type": "markdown",
   "metadata": {},
   "source": [
    "# Compile and Install FOSS Exercises"
   ]
  },
  {
   "cell_type": "markdown",
   "metadata": {},
   "source": [
    "## Install Gnuplot\n",
    "**Gnuplot** is a portable free open-source command-line driven graphing utility for Linux, OS/2, MS Windows, OSX, VMS, and many other platforms. It was originally created to allow scientists and students to visualize mathematical functions and data interactively, but has grown to support many non-interactive uses such as web scripting. It is also used as a plotting engine by third-party applications like Octave. Gnuplot has been supported and under active development since 1986.\n",
    "\n",
    "On your own machine use command-line commands to download and do a root install of the **latest version** on your system. Mac OS X users should be sure they have installed XQuartz before installing gnuplot. Make sure to follow the directions in the file INSTALL in the source directory, and don't skip any step; one step should show a complete set of demo plots to screen."
   ]
  },
  {
   "cell_type": "markdown",
   "metadata": {},
   "source": [
    "### What is the latest version of gnuplot?"
   ]
  },
  {
   "cell_type": "markdown",
   "metadata": {},
   "source": [
    "**Your answer**: gnuplot 5.2.7"
   ]
  },
  {
   "cell_type": "markdown",
   "metadata": {},
   "source": [
    "Use the following code-cell to provide a complete recipe of commands to:\n",
    "1. install libpng using your system package manager\n",
    "1. download the installation tarball for gnuplot at the command-line with a tool like `wget` or `curl`\n",
    "1. unpack the tarball\n",
    "1. change to the unpacked source directory\n",
    "1. configure the installation\n",
    "1. follow all steps to complete a root install of the package"
   ]
  },
  {
   "cell_type": "code",
   "execution_count": 1,
   "metadata": {},
   "outputs": [
    {
     "ename": "SyntaxError",
     "evalue": "invalid syntax (<ipython-input-1-af6a51a3dee2>, line 1)",
     "output_type": "error",
     "traceback": [
      "\u001b[0;36m  File \u001b[0;32m\"<ipython-input-1-af6a51a3dee2>\"\u001b[0;36m, line \u001b[0;32m1\u001b[0m\n\u001b[0;31m    conda create -n lab2\u001b[0m\n\u001b[0m               ^\u001b[0m\n\u001b[0;31mSyntaxError\u001b[0m\u001b[0;31m:\u001b[0m invalid syntax\n"
     ]
    }
   ],
   "source": [
    "conda create -n lab2\n",
    "conda activate lab2\n",
    "conda install ipython notebook ipykernel jupyterlab           comment: add essential libraries to the new environment\n",
    "conda info --envs\n",
    "conda install libpng\n",
    "wget https://versaweb.dl.sourceforge.net/project/gnuplot/gnuplot/5.2.7/gnuplot-5.2.7.tar.gz\n",
    "tar xf gnuplot-5.2.7.tar.gz\n",
    "ls -l\n",
    "cd ~/gnuplot-5.2.7\n",
    "pwd\n",
    "./configure\n",
    "ls -l\n",
    "make\n",
    "sudo make install\n",
    "gnuplot --help"
   ]
  },
  {
   "cell_type": "markdown",
   "metadata": {},
   "source": [
    "### What file in the source directory did you read to get installation instructions?"
   ]
  },
  {
   "cell_type": "markdown",
   "metadata": {},
   "source": [
    "**Your answer**: The file is INSTALL (i.e. less INSTALL)&emsp;----- I figured this out in the next section. The lecture 2 slides (section 5-8) was really helpful"
   ]
  },
  {
   "cell_type": "markdown",
   "metadata": {},
   "source": [
    "## Install a script from GitHub to enable command-line use of gnuplot\n",
    "Gnuplot has its own scripting language, requiring users to use it interactively, or to script with custom scripts. However it is much more generally useful to be able to use a program like gnuplot non-interactively, with the data coming in from the shell (we'll learn more about this next week) and to configure its output through command-line options. Somebody created a wrapper for gnuplot called `feedgnuplot` that allows you to do this. "
   ]
  },
  {
   "cell_type": "markdown",
   "metadata": {},
   "source": [
    "Use the following code-cell to provide a complete recipe of commands to:\n",
    "1. clone the github repo for `feedgnuplot` to your machine\n",
    "1. change to the cloned source directory\n",
    "1. configure the installation to install under `/usr/local` as instructed\n",
    "1. follow all steps to complete a root install of the package\n",
    "1. Modify the first example provided in the online documentation README.pod to send plot output to a file in PNG format"
   ]
  },
  {
   "cell_type": "code",
   "execution_count": null,
   "metadata": {},
   "outputs": [],
   "source": [
    "git clone https://github.com/dkogan/feedgnuplot.git\n",
    "cd ~/feedgnuplot\n",
    "pwd\n",
    "ls -l\n",
    "less INSTALL\n",
    "perl Makefile.PL prefix=/usr/local\n",
    "make\n",
    "sudo make install\n",
    "feedgnuplot --help\n",
    "less README.pod\n",
    "gnuplot\n",
    "set terminal                                         comment: the png terminal is missing in gnuplot\n",
    "conda install -c conda-forge libgd                   comment: the png terminal in gnuplot requires libgd version >= 2\n",
    "conda list                                           comment: check if libgd is there\n",
    "cd ~/gnuplot-5.2.7                                   comment: recompiling and reinstalling gnuplot\n",
    "./configure\n",
    "make\n",
    "sudo make install\n",
    "gnuplot\n",
    "set terminal                                         comment: check if png terminal is there\n",
    "quit\n",
    "seq 8| awk '{print 2*$1,$1*$1}'|feedgnuplot --lines --points --legend 0 \"piped data 0\" --title \"Interesting Test plot\" --y2 1 --terminal 'png' --hardcopy yst.png --exit"
   ]
  },
  {
   "cell_type": "markdown",
   "metadata": {},
   "source": [
    "### Attach the output plot in PNG format to your notebook in the next cell here using markdown"
   ]
  },
  {
   "attachments": {
    "yst.png": {
     "image/png": "[encoded data removed]"
    }
   },
   "cell_type": "markdown",
   "metadata": {},
   "source": [
    "**Attach figure here**![yst.png](attachment:yst.png)"
   ]
  },
  {
   "cell_type": "markdown",
   "metadata": {},
   "source": [
    "## Install historical software no longer available from the original internet source\n",
    "For this problem you need to have a working X server on your machine. Linux users should have this already; Mac users should install XQuartz if they haven’t already, and take note of where the X11 libraries are installed on your system. Make a fresh directory to download and install all the files necessary to build the program reticulate discussed in class, as well as the example data file."
   ]
  },
  {
   "cell_type": "markdown",
   "metadata": {},
   "source": [
    "### What is a valid URL to locate the reticulate source code?"
   ]
  },
  {
   "cell_type": "markdown",
   "metadata": {},
   "source": [
    "**Your answer**:  https://web.archive.org/web/20060829060742/http://acmc.uq.edu.au/DETYA/people/ibj/Retic/"
   ]
  },
  {
   "cell_type": "markdown",
   "metadata": {},
   "source": [
    "Use the following code-cell to provide a complete recipe of commands to:\n",
    "1. download the source code files, makefile, instructions and example data file from the web to your machine\n",
    "1. compile the software\n",
    "1. change names of .h and .c source code files to match the makefile"
   ]
  },
  {
   "cell_type": "code",
   "execution_count": null,
   "metadata": {},
   "outputs": [],
   "source": [
    "conda list                                               comment: check if there is X11 libraries installed\n",
    "conda install -c conda-forge xorg-libx11                 comment: install the libx11 library\n",
    "mkdir reticulatehw                                       comment: create new directory\n",
    "cd ~/reticulatehw\n",
    "wget \"https://web.archive.org/web/20060911055419/http://acmc.uq.edu.au/DETYA/people/ibj/Retic/instructions\"\n",
    "less instructions\n",
    "wget \"https://web.archive.org/web/20060903054825/http://acmc.uq.edu.au/DETYA/people/ibj/Retic/reticulate.c\"\n",
    "wget \"https://web.archive.org/web/20060903055053/http://acmc.uq.edu.au/DETYA/people/ibj/Retic/XPlot.c\"\n",
    "wget \"https://web.archive.org/web/20060903054517/http://acmc.uq.edu.au/DETYA/people/ibj/Retic/XPlot.h\"\n",
    "wget \"https://web.archive.org/web/20060903054851/http://acmc.uq.edu.au/DETYA/people/ibj/Retic/makefile\"\n",
    "wget \"https://web.archive.org/web/20060829060742/http://acmc.uq.edu.au/DETYA/people/ibj/Retic/gamglobin.gde\"\n",
    "gcc -o reticulate reticulate.c XPlot.c -lX11             comment: Xlib.h file not found\n",
    "cd /\n",
    "sudo find / -name Xlib.h                                 comment: find the absolute path for the Xlib.h file (univeral path)\n",
    "sudo find / -name lib                                    comment: find the absolute path for the libraries (univeral path)\n",
    "cd ~/reticulatehw                                        \n",
    "vi makefile                                              comment: edit the makefile\n",
    "make reticulate\n",
    "./reticulate\n",
    "\n"
   ]
  },
  {
   "cell_type": "markdown",
   "metadata": {},
   "source": [
    "Now, when you compile the software, at the very top of the error output you will get\n",
    "two errors saying \"No such file or directory\" \n",
    "### what are the names of two .h files that aren't being found?"
   ]
  },
  {
   "cell_type": "markdown",
   "metadata": {},
   "source": [
    "**Your answer**: Xlib.h is not found \n",
    "<br>\n",
    "comment: for my machines only one .h was not found"
   ]
  },
  {
   "cell_type": "markdown",
   "metadata": {},
   "source": [
    "Use the command \"find / -name\" with the name of one of the missing .h files, in\n",
    "order to search the filesystem on the course server, starting from the root directory, for one of these files by name. \n",
    "### What is the absolute path of the directory that contains this .h file?"
   ]
  },
  {
   "cell_type": "markdown",
   "metadata": {},
   "source": [
    "**Your answer**: /opt/X11/include/X11"
   ]
  },
  {
   "cell_type": "markdown",
   "metadata": {},
   "source": [
    "Edit the makefile to set the CFLAGS variable to be the absolute path of the directory you discovered in the previous question and try to recompile. Assuming you still get an error message, what part of the absolute path to these .h files is not included when you compile reticulate? If you edit the CFLAGS variable accordingly and recompile, what directory name now set at the end of the CFLAGS variable is repeated in the error message?\n",
    "### What should you set the CFLAGS variable to, editing the makefile, to help the compiler and linker find these files?"
   ]
  },
  {
   "cell_type": "markdown",
   "metadata": {},
   "source": [
    "**Your answer**:-I/opt/X11/include"
   ]
  },
  {
   "cell_type": "markdown",
   "metadata": {},
   "source": [
    "Make the necessary changes to compile the program. Run the program on the example data file. Follow the instructions to save the figure as an encapsulated postscript file called *Ass4a.4.eps*. Donʼt worry about your answers to other questions the program asks you, almost anything will work on input. \n",
    "### Submit the figure for credit."
   ]
  },
  {
   "attachments": {
    "QSB282%20HOMEWORK2.png": {
     "image/png": "[encoded data removed]"
    }
   },
   "cell_type": "markdown",
   "metadata": {},
   "source": [
    "**Attach figur![QSB282%20HOMEWORK2.png](attachment:QSB282%20HOMEWORK2.png)e here**"
   ]
  },
  {
   "cell_type": "code",
   "execution_count": null,
   "metadata": {},
   "outputs": [],
   "source": []
  }
 ],
 "metadata": {
  "kernelspec": {
   "display_name": "Python 3",
   "language": "python",
   "name": "python3"
  },
  "language_info": {
   "codemirror_mode": {
    "name": "ipython",
    "version": 3
   },
   "file_extension": ".py",
   "mimetype": "text/x-python",
   "name": "python",
   "nbconvert_exporter": "python",
   "pygments_lexer": "ipython3",
   "version": "3.7.3"
  },
  "toc-autonumbering": true
 },
 "nbformat": 4,
 "nbformat_minor": 4
}
