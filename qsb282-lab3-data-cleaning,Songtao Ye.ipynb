{
 "cells": [
  {
   "cell_type": "markdown",
   "metadata": {
    "toc-hr-collapsed": false
   },
   "source": [
    "# QSB282 Bioinformatics Lab Assignment 3: Data Cleaning Control and Plotting"
   ]
  },
  {
   "cell_type": "markdown",
   "metadata": {},
   "source": [
    "Corresponds to lectures 3 and 4. Find them on CatCourses.\n",
    "\n",
    "Lecture 3\n",
    ": Data Science I: Data Cleaning and Control with UNIX, Perl, Python, and R\n",
    "\n",
    "Lecture 4\n",
    ": Data Science II: Data Summarization and Plotting in UNIX, R, and Python\n",
    "\n",
    "**This is the first assignment in which you will generate the output of your code cells to include as part of your assignment. This assignment requires code cells to execute in BASH and Python. I recommend that you run the notebook with the Python Kernel, and use magics to run specific cells in BASH (that is, start a BASH cell with the magic `%%bash`). Unlike for previous assignments, I recommend developing your command-lines interactively within the notebook. ** \n",
    "For more information on how to do this, see https://evodify.com/python-r-bash-jupyter-notebook/"
   ]
  },
  {
   "cell_type": "markdown",
   "metadata": {},
   "source": [
    "# Instructions to Complete this Assignment"
   ]
  },
  {
   "cell_type": "markdown",
   "metadata": {},
   "source": [
    "1. Enter your name on this line: Songtao Ye\n",
    "1. Enter the names of those who helped you on this assignment: Ruihao Li, Ben Hwang, and Sarina Qin\n",
    "1. Answer as many of the questions as you can,\n",
    "1. Upload your `.ipynb` **and** your `.html` for your Jupyter Notebook, and the `.Rmd` and `.html` for your RStudio R Notebook, in catcourses under **Assignment 3**. "
   ]
  },
  {
   "cell_type": "markdown",
   "metadata": {
    "toc-hr-collapsed": true
   },
   "source": [
    "# UNIX command-lines without Perl one-liners"
   ]
  },
  {
   "cell_type": "markdown",
   "metadata": {},
   "source": [
    "## Baby Names Data"
   ]
  },
  {
   "cell_type": "markdown",
   "metadata": {},
   "source": [
    "### Download the data\n",
    "Uncomment and run the following perl one-liner to download the baby names data for all decades. Do this by pressing `shift-enter` in the following code cell. To run the code, you need to have the command `wget` on your system.\n",
    "\n",
    "**Note:** This code demonstrates how to use perl for automation using the `system` command.\n",
    "**Caution!** Automating tasks can be dangerous to your data/filesystem/computer unless you are sure the code that you are automating is correct. Always prototype and test a one-liner like this first, by substituting the command `system` with the command `print` and running it before you run the real thing."
   ]
  },
  {
   "cell_type": "code",
   "execution_count": 21,
   "metadata": {},
   "outputs": [],
   "source": [
    "%%bash \n",
    "#perl -e 'for(0..13) {$Y=1880 + ($_*10); system \"wget \\\"https://www.ssa.gov/OACT/babynames/decades/names${Y}s.html\\\"\\n\"}'"
   ]
  },
  {
   "cell_type": "markdown",
   "metadata": {},
   "source": [
    "### Finding the Order of Files Matched by a Shell Glob\n",
    "In order to extract and combine the babyname data across decades efficiently and easily, we need to know the order in which the downloaded files will be processed when you refer to them with a shell glob. Check the `man` page for `ls` to find the option to list the filenames matched by a glob, one file per line, and then use this option with a shell glob to list the files in the matched order, to verify that the files get listed in order of decade."
   ]
  },
  {
   "cell_type": "code",
   "execution_count": 39,
   "metadata": {
    "scrolled": false
   },
   "outputs": [
    {
     "name": "stdout",
     "output_type": "stream",
     "text": [
      "names1880s.html\n",
      "names1890s.html\n",
      "names1900s.html\n",
      "names1910s.html\n",
      "names1920s.html\n",
      "names1930s.html\n",
      "names1940s.html\n",
      "names1950s.html\n",
      "names1960s.html\n",
      "names1970s.html\n",
      "names1980s.html\n",
      "names1990s.html\n",
      "names2000s.html\n",
      "names2010s.html\n"
     ]
    }
   ],
   "source": [
    "%%bash\n",
    "ls *[1880-2010]*.html "
   ]
  },
  {
   "cell_type": "markdown",
   "metadata": {},
   "source": [
    "### Using UNIX Text Utilities to Extract Baby Names Data Over All Decades\n",
    "Install the command `lynx` if you don't have it on your system. Inspect the plain-text layout of one of the downloaded baby names HTML files using *e.g.* the command `lynx -dump names1880s.html | less` **(Take note of how many top baby-names are reported for any decade)**. Write a single UNIX command pipe-line starting with `lynx -dump` that converts the HTML files to text, uses a regular expression to extract just the lines containing the actual baby-names data from all 14 HTML file by order of decade. In addition, your command pipe-line should cut the leading white-space from each line, delete commas inside the numbers, convert spaces into tabs, and save the result to the file `babynames_all.txt`. (Note: you cannot easily use `head` or `tail` to process the data-stream because of how the files are concatenated)."
   ]
  },
  {
   "cell_type": "code",
   "execution_count": 151,
   "metadata": {
    "scrolled": true
   },
   "outputs": [],
   "source": [
    "%%bash\n",
    "lynx -dump *[1880-2010]*.html|grep -E '^\\W+\\d+\\W+\\w+\\W\\d+.*\\W\\d'|cut -c 4-|tr -d \",\"|tr ' ' '\\t'> babynames_all.txt  \n",
    "#perl -pe 's/^\\h+//g;s/[,]//g;s/\\h+/\\t/g' > babynames_all.txt does the same thing"
   ]
  },
  {
   "cell_type": "markdown",
   "metadata": {},
   "source": [
    "### Verify the Extraction Worked as Expected\n",
    "Write a UNIX command to count the lines in `babynames_all.txt` to make sure that the result matches the number of lines expected, which is the number of top baby-names reported per decade times the number of decades for which there is data. **(In addition, you don't need to show this work, but you should always inspect the data. Page through the file, or use `head` and `tail` to verify that the top lines contain \"old\" names and the bottom contains \"new\" names)*"
   ]
  },
  {
   "cell_type": "code",
   "execution_count": 132,
   "metadata": {},
   "outputs": [
    {
     "name": "stdout",
     "output_type": "stream",
     "text": [
      "    2800 babynames_all.txt\n"
     ]
    }
   ],
   "source": [
    "%%bash\n",
    "wc -l babynames_all.txt"
   ]
  },
  {
   "cell_type": "markdown",
   "metadata": {},
   "source": [
    "### Label the Data by Decade of Origin\n",
    "Uncomment and modify the code in the next cell so it prints the decades sorted numerically from 1880 to 2010. Modify and run again to ensure it has the correct number of lines. Then modify one last time to save the output to the file `decades.txt.` **(You may get an error message** `stty: stdin isn't a terminal` **, but don't worry about it)**."
   ]
  },
  {
   "cell_type": "code",
   "execution_count": 133,
   "metadata": {},
   "outputs": [
    {
     "name": "stdout",
     "output_type": "stream",
     "text": [
      "    2800 decades.txt\n"
     ]
    }
   ],
   "source": [
    "%%bash\n",
    "tcsh\n",
    "repeat 200 seq 1880 10 2010|sort -n > decades.txt\n",
    "wc -l decades.txt"
   ]
  },
  {
   "cell_type": "markdown",
   "metadata": {},
   "source": [
    "### Augmenting a Flat-File Database\n",
    "Write a UNIX pipeline to combine `decades.txt` and `babynames_all.txt` line-by-line, in effect pre-pending the decade labels to the babynames data, using the default TAB-character as a delimiter, and save it to a new file called `babynames_labelled_all.txt`. "
   ]
  },
  {
   "cell_type": "code",
   "execution_count": 135,
   "metadata": {},
   "outputs": [],
   "source": [
    "%%bash\n",
    "paste -d \"\\t\" decades.txt babynames_all.txt >babynames_labelled_all.txt"
   ]
  },
  {
   "cell_type": "markdown",
   "metadata": {},
   "source": [
    "### Trend Data for a Given Name\n",
    "Write a valid UNIX pipeline to print the decade, rank and name for any top-ranked boy's or girl's name over all decades in which it appears."
   ]
  },
  {
   "cell_type": "code",
   "execution_count": 294,
   "metadata": {},
   "outputs": [
    {
     "name": "stdout",
     "output_type": "stream",
     "text": [
      "1880 50 Michael\n",
      "1890 54 Michael\n",
      "1900 45 Michael\n",
      "1910 44 Michael\n",
      "1920 52 Michael\n",
      "1930 35 Michael\n",
      "1940 9 Michael\n",
      "1950 2 Michael\n",
      "1960 1 Michael\n",
      "1970 1 Michael\n",
      "1980 1 Michael\n",
      "1990 1 Michael\n",
      "2000 2 Michael\n",
      "2010 7 Michael\n",
      "1880 99 Jane\n",
      "1890 117 Jane\n",
      "1900 137 Jane\n",
      "1910 68 Jane\n",
      "1920 56 Jane\n",
      "1930 47 Jane\n",
      "1940 40 Jane\n",
      "1950 51 Jane\n",
      "1960 92 Jane\n"
     ]
    }
   ],
   "source": [
    "%%bash\n",
    "#For boys:\n",
    "cat babynames_labelled_all.txt|grep -w 'Michael'|awk '{print $1,$2,$3}'\n",
    "#For grils:\n",
    "cat babynames_labelled_all.txt|grep -w 'Jane'|awk '{print $1,$2,$5}'\n",
    "#perl -ne 'print \"$1$3\\n\" if /(\\d+\\s\\d+\\s)(\\w+\\s+\\d+\\s+)?(Jane)/' does the samething,but much specific and easier\n"
   ]
  },
  {
   "cell_type": "markdown",
   "metadata": {},
   "source": [
    "### How many unique boys’ names are in the top 200 baby-names over all thirteen decades?"
   ]
  },
  {
   "cell_type": "code",
   "execution_count": 75,
   "metadata": {},
   "outputs": [
    {
     "name": "stdout",
     "output_type": "stream",
     "text": [
      "      53\n"
     ]
    }
   ],
   "source": [
    "%%bash\n",
    "cat babynames_labelled_all.txt|sort -k4 -rn|head -200|cut -f 3|sort|uniq|wc -l"
   ]
  },
  {
   "cell_type": "markdown",
   "metadata": {},
   "source": [
    "### How many unique girls’ names contain two consecutive e’s or a’s?"
   ]
  },
  {
   "cell_type": "code",
   "execution_count": 103,
   "metadata": {},
   "outputs": [
    {
     "name": "stdout",
     "output_type": "stream",
     "text": [
      "      16\n"
     ]
    }
   ],
   "source": [
    "%%bash\n",
    "cat babynames_labelled_all.txt|cut -f5|grep -E -i \"aa|ee\"|sort|uniq|wc -l"
   ]
  },
  {
   "cell_type": "markdown",
   "metadata": {},
   "source": [
    "### How many unique names (considering girls’ and boys’ names together) are in the top 200 babynames from all fourteen decades?"
   ]
  },
  {
   "cell_type": "code",
   "execution_count": 66,
   "metadata": {},
   "outputs": [
    {
     "name": "stdout",
     "output_type": "stream",
     "text": [
      "    1205\n"
     ]
    }
   ],
   "source": [
    "%%bash\n",
    "cut -f 3,5 babynames_labelled_all.txt|tr '\\t' '\\n'|sort|uniq|wc -l\n",
    "#perl -ne 'while (/(\\w+\\h+\\d+)\\h+(\\w+\\h+\\d+)/g){print \"$1\\n$2\\n\"}' does the same thing as tr "
   ]
  },
  {
   "cell_type": "markdown",
   "metadata": {},
   "source": [
    "### How many names were top-ranking for both boys and girls in the same decade during the 1960s (HINT this exploits another option to uniq)? Call these “bi-gender names”."
   ]
  },
  {
   "cell_type": "code",
   "execution_count": 102,
   "metadata": {},
   "outputs": [
    {
     "name": "stdout",
     "output_type": "stream",
     "text": [
      "Kelly\n",
      "Leslie\n",
      "Terry\n",
      "Tracy\n"
     ]
    }
   ],
   "source": [
    "%%bash\n",
    "cat babynames_labelled_all.txt|grep -E '^1960'|cut -f 3,5|tr -s '\\t' '\\n'|sort|uniq -d > bi-gender_names.txt\n",
    "#perl -ne 'while (/(\\w+)\\h+(\\w+)/g){print \"$1\\n$2\\n\"}' does the same thing as tr"
   ]
  },
  {
   "cell_type": "markdown",
   "metadata": {},
   "source": [
    "## Hacking a Table from a PDF Document\n",
    "For this exercise, download the PDF file of a paper from the *Journal of Molecular Biology* by authors Dong, Nilsson and Kurland and name it `DongEtAl96.pdf.` Install the `xpdf` package on your system, to provide the command `pdftotext`. Run `pdftotext -layout -enc UTF-8 DongEtAl96.pdf` to generate the file `DongEtAl96.txt`. Write a UNIX pipeline that extracts only the first and last columns of Table 2 from `DongEtAl96.txt` so that the two columns are in a text table separated by whitespace."
   ]
  },
  {
   "cell_type": "code",
   "execution_count": 239,
   "metadata": {
    "scrolled": false
   },
   "outputs": [
    {
     "name": "stdout",
     "output_type": "stream",
     "text": [
      "  \n",
      "Ala1B  5.04\n",
      "  \n",
      "Ala2  0.95\n",
      "  \n",
      "Arg2  7.37\n",
      "  \n",
      "Arg3  0.99\n",
      "  \n",
      "Arg4  1.34\n",
      "  \n",
      "Arg5  0.65\n",
      "  \n",
      "Asn  1.85\n",
      "  \n",
      "Asp1  3.72\n",
      "  \n",
      "Cys  2.46\n",
      "  \n",
      "Gln1  1.18\n",
      "  \n",
      "Gln2  1.36\n",
      "  \n",
      "Glu2  7.32\n",
      "  \n",
      "Gly1a  24\n",
      "  \n",
      "Gly2  3.31\n",
      "  \n",
      "Gly3  6.76\n",
      "  \n",
      "His  0.99\n",
      "  \n",
      "Ile1  5.39\n",
      "  \n",
      "Ile2a  13\n",
      "  \n",
      "Leu1  6.94\n",
      "  \n",
      "Leu2  1.46\n",
      "  \n",
      "Leu3  1.03\n",
      "  \n",
      "Leu4  2.97\n",
      "  \n",
      "Leu5  1.60\n",
      "  \n",
      "Lys  2.97\n",
      "  \n",
      "Met  1.88\n",
      "  \n",
      "Met  1.11\n",
      "  \n",
      "Met  1.09\n",
      "  \n",
      "Phe  1.60\n",
      "  \n",
      "Pro1  1.38\n",
      "  \n",
      "Pro2  1.11\n",
      "  \n",
      "Pro3  0.90\n",
      "  \n",
      "Sec  0.34\n",
      "  \n",
      "Ser1  2.01\n",
      "  \n",
      "Ser2  0.53\n",
      "  \n",
      "Ser3  2.18\n",
      "  \n",
      "Ser5  1.18\n",
      "  \n",
      "Thr1  0.16\n",
      "  \n",
      "Thr2  0.84\n",
      "  \n",
      "Thr3  1.70\n",
      "  \n",
      "Thr4  1.42\n",
      "  \n",
      "Trp  1.46\n",
      "  \n",
      "Tyr1  1.19\n",
      "  \n",
      "Tyr2  1.95\n",
      "  \n",
      "Val1  5.96\n",
      "  \n",
      "Val2A  0.97\n",
      "  \n",
      "Val2B  0.98\n",
      "  \n"
     ]
    }
   ],
   "source": [
    "%%bash\n",
    "cat DongEtA196.txt|head -309|tail -93|awk '{print $1\"  \"$NF}'"
   ]
  },
  {
   "cell_type": "markdown",
   "metadata": {
    "toc-hr-collapsed": true
   },
   "source": [
    "# Perl One-Liners"
   ]
  },
  {
   "cell_type": "markdown",
   "metadata": {},
   "source": [
    "## Global Substitution (Using `perl` like `sed`)"
   ]
  },
  {
   "cell_type": "markdown",
   "metadata": {},
   "source": [
    "### Missing Data\n",
    "Download and expand the \"full SOFT\" DataSet Record `GDS115` from the Microarray data repository at GEO/NCBI. Which columns contain the log-ratio expression data? What word is used to indicate missing data? Many software packages use `NA` to indicate missing data. Write a perl one-liner to substitute all occurrences of missing data to read `NA`."
   ]
  },
  {
   "cell_type": "code",
   "execution_count": 149,
   "metadata": {},
   "outputs": [],
   "source": [
    "%%bash\n",
    "cat GDS115_full.soft|grep -E '^\\d+'|perl -pe 's/EMPTY/NA/g;s/null/NA/g'> ystt.txt\n",
    "# Columns, SM1075 GSM1076 GSM1090 GSM1077 and GSM1078 contain log-rario data\n",
    "# Empty and null are used to indicate the missing data\n"
   ]
  },
  {
   "cell_type": "markdown",
   "metadata": {},
   "source": [
    "## Filtering Data by Numerical Values\n",
    "The file `actd.csv` courtesy of Dr. Dana Burow of the Cleary lab, contains normalized Affymetrix microarray data for *Drosophila* over a time-course, with expression values in the third through fifth columns for t = 0, 1 and 3 hours. Unfortunately, an artifact of normalization has yielded negative and zero-valued expression values for some of the spots at t = 3 hours. Write a perl one-liner to filter the data, so as to print only those lines in the file that have positive expression values at t = 3 hrs. Count lines to make sure you haven't lost any data."
   ]
  },
  {
   "cell_type": "code",
   "execution_count": 7,
   "metadata": {},
   "outputs": [
    {
     "name": "stdout",
     "output_type": "stream",
     "text": [
      "   25213\n"
     ]
    }
   ],
   "source": [
    "%%bash\n",
    "cat actd.csv|perl -F',' -ane 'print if ($F[-3]>=0);'|wc -l"
   ]
  },
  {
   "cell_type": "markdown",
   "metadata": {},
   "source": [
    "## Subsetting and Filtering Data by Numerical Values\n",
    "Modify your answer to the previous question so as to print only the Ref-Numbers for those spots with negative and zero-valued expression values at t = 3 hours."
   ]
  },
  {
   "cell_type": "code",
   "execution_count": 13,
   "metadata": {},
   "outputs": [
    {
     "name": "stdout",
     "output_type": "stream",
     "text": [
      "RefNumber\n",
      "43303\n",
      "42869\n",
      "29522\n",
      "20929\n",
      "481\n",
      "18460\n",
      "11608\n",
      "33631\n",
      "44757\n",
      "42913\n",
      "1765\n",
      "40422\n",
      "37769\n",
      "492\n",
      "17973\n",
      "14892\n",
      "9322\n",
      "13009\n",
      "36021\n",
      "44061\n",
      "35340\n",
      "44635\n",
      "32900\n",
      "37898\n",
      "42104\n",
      "37177\n"
     ]
    }
   ],
   "source": [
    "%%bash\n",
    "cat actd.csv|perl -F',' -ane 'print \"$F[0]\\n\" if ($F[-3]<=0);'"
   ]
  },
  {
   "cell_type": "markdown",
   "metadata": {},
   "source": [
    "## Controlling the number of fields per record\n",
    "Well-formed flatfile databases should always have the same number of fields for each record. Write a perl one-liner that computes the number of fields on any line in `actd.csv` using `scalar (@F)`, and then pipes this to one or more other UNIX commands so that each unique number of fields for any line is printed only once."
   ]
  },
  {
   "cell_type": "code",
   "execution_count": 10,
   "metadata": {},
   "outputs": [
    {
     "name": "stdout",
     "output_type": "stream",
     "text": [
      "7\n"
     ]
    }
   ],
   "source": [
    "%%bash\n",
    "perl -F\",\" -alne 'print scalar(@F)' actd.csv|sort|uniq"
   ]
  },
  {
   "cell_type": "markdown",
   "metadata": {},
   "source": [
    "## Commenting Records\n",
    "A different approach to filtering data is to \"comment out\" the lines that fail some criterion, like including negative expression values. For example, one could prefix all the lines that have zero or negative expression values at t = 3 hours with a `#` character (not appearing elsewhere in the file), which would make it easy to remove those lines with a grep command later. Write a perl-one-liner to \"comment out\" (*i.e.* add a `#` at the beginning of) all lines that have zero or negative expression values at t = 3 hours. Use shell-redirection to save this to the new file `actd_comment.csv`"
   ]
  },
  {
   "cell_type": "code",
   "execution_count": 137,
   "metadata": {},
   "outputs": [],
   "source": [
    "%%bash \n",
    "cat actd.csv|perl -F',' -ape 'print \"#$1\" if ($F[-3]<=0);'> actd_comment.csv"
   ]
  },
  {
   "cell_type": "markdown",
   "metadata": {},
   "source": [
    "## Efficient Regular Expressions\n",
    "Write a memory-efficient Perl-formatted regular expression that matches a line if it contains a quotation bracketed by double-quotation marks. The quotation may be empty as in `\"\"` Your regular expression should match literal double-quotation marks at both the beginning and end of the string and quoted strings except those containing a quoted double-quotation mark."
   ]
  },
  {
   "cell_type": "markdown",
   "metadata": {},
   "source": [
    "/^\"[^\"\"]*\"$/\n"
   ]
  },
  {
   "cell_type": "markdown",
   "metadata": {
    "toc-hr-collapsed": true
   },
   "source": [
    "# Summarizing and Plotting Data with Pandas Dataframes in Python\n",
    "To solve the following problems refer to the book *Python for Data Analysis, 2nd Edition* on Safari Proquest at https://proquest.safaribooksonline.com/book/programming/python/9781491957653"
   ]
  },
  {
   "cell_type": "markdown",
   "metadata": {},
   "source": [
    "## Importing the Pandas library\n",
    "What is some code to import the pandas library into the environment of this notebook, and give it the alias `pd`?\n",
    "See [Chapter 5. Getting Started with pandas](https://proquest.safaribooksonline.com/book/programming/python/9781491957653/firstchapter#X2ludGVybmFsX0h0bWxWaWV3P3htbGlkPTk3ODE0OTE5NTc2NTMlMkZwYW5kYXNfc3VtbWFyaXplX2h0bWwmcXVlcnk9KChweXRob24lMjBkYXRhKSk=)"
   ]
  },
  {
   "cell_type": "code",
   "execution_count": 245,
   "metadata": {},
   "outputs": [],
   "source": [
    "import pandas as pd"
   ]
  },
  {
   "cell_type": "markdown",
   "metadata": {},
   "source": [
    "## Initializing a Pandas DataFrame from a CSV file\n",
    "What is code to read in the `actd.csv` file you worked with before, a CSV-formatted flat-file database, and use its data to initialize a pandas DataFrame object called `df`?\n",
    "(The file `actd.csv` contains a header line that uses spaces in the names of fields/columns. This makes it difficult to select columns by their names later, when you plot the data. In order to easily select columns of the DataFrame later, you will want to rename the fields from how they are named in the file. To do this, pass the options `header=None,skiprows=1,names=['refnum','name','pulse','chase1hr','chase3hr','genename','tophit'])` to the class method you use to read the file). \n",
    "See [6.1 Reading and Writing Data in Text Format](https://proquest.safaribooksonline.com/book/programming/python/9781491957653/firstchapter#X2ludGVybmFsX0h0bWxWaWV3P3htbGlkPTk3ODE0OTE5NTc2NTMlMkZpb19mbGF0X2ZpbGVzX2h0bWwmcXVlcnk9KChweXRob24lMjBkYXRhKSk=)"
   ]
  },
  {
   "cell_type": "code",
   "execution_count": 198,
   "metadata": {},
   "outputs": [
    {
     "data": {
      "text/html": [
       "<div>\n",
       "<style scoped>\n",
       "    .dataframe tbody tr th:only-of-type {\n",
       "        vertical-align: middle;\n",
       "    }\n",
       "\n",
       "    .dataframe tbody tr th {\n",
       "        vertical-align: top;\n",
       "    }\n",
       "\n",
       "    .dataframe thead th {\n",
       "        text-align: right;\n",
       "    }\n",
       "</style>\n",
       "<table border=\"1\" class=\"dataframe\">\n",
       "  <thead>\n",
       "    <tr style=\"text-align: right;\">\n",
       "      <th></th>\n",
       "      <th>refnum</th>\n",
       "      <th>name</th>\n",
       "      <th>pulse</th>\n",
       "      <th>chase1hr</th>\n",
       "      <th>chase3hr</th>\n",
       "      <th>genename</th>\n",
       "      <th>tophit</th>\n",
       "    </tr>\n",
       "  </thead>\n",
       "  <tbody>\n",
       "    <tr>\n",
       "      <td>0</td>\n",
       "      <td>5901</td>\n",
       "      <td>AT01131</td>\n",
       "      <td>2002</td>\n",
       "      <td>422</td>\n",
       "      <td>85.76</td>\n",
       "      <td>AT01131</td>\n",
       "      <td>dgc|AT01131|gb|BT011567|tc|TC208615</td>\n",
       "    </tr>\n",
       "    <tr>\n",
       "      <td>1</td>\n",
       "      <td>29553</td>\n",
       "      <td>AT02348</td>\n",
       "      <td>43443</td>\n",
       "      <td>20105</td>\n",
       "      <td>8256.00</td>\n",
       "      <td>AT02348</td>\n",
       "      <td>dgc|AT02348|gb|AY089228</td>\n",
       "    </tr>\n",
       "    <tr>\n",
       "      <td>2</td>\n",
       "      <td>12848</td>\n",
       "      <td>AT02388</td>\n",
       "      <td>2919</td>\n",
       "      <td>975</td>\n",
       "      <td>101.12</td>\n",
       "      <td>AT02388</td>\n",
       "      <td>dgc|AT02388|gb|AY089232</td>\n",
       "    </tr>\n",
       "    <tr>\n",
       "      <td>3</td>\n",
       "      <td>43738</td>\n",
       "      <td>AT03386</td>\n",
       "      <td>7401</td>\n",
       "      <td>2032</td>\n",
       "      <td>231.68</td>\n",
       "      <td>AT03386</td>\n",
       "      <td>dgc|AT03386|gb|AY084095|tc|TC212064</td>\n",
       "    </tr>\n",
       "    <tr>\n",
       "      <td>4</td>\n",
       "      <td>44077</td>\n",
       "      <td>AT03646</td>\n",
       "      <td>3652</td>\n",
       "      <td>849</td>\n",
       "      <td>226.56</td>\n",
       "      <td>AT03646</td>\n",
       "      <td>dgc|AT03646|gb|AY089251</td>\n",
       "    </tr>\n",
       "    <tr>\n",
       "      <td>...</td>\n",
       "      <td>...</td>\n",
       "      <td>...</td>\n",
       "      <td>...</td>\n",
       "      <td>...</td>\n",
       "      <td>...</td>\n",
       "      <td>...</td>\n",
       "      <td>...</td>\n",
       "    </tr>\n",
       "    <tr>\n",
       "      <td>25231</td>\n",
       "      <td>18516</td>\n",
       "      <td>EL886204</td>\n",
       "      <td>64434</td>\n",
       "      <td>44417</td>\n",
       "      <td>43558.40</td>\n",
       "      <td>EL886204</td>\n",
       "      <td>ug|EL886204</td>\n",
       "    </tr>\n",
       "    <tr>\n",
       "      <td>25232</td>\n",
       "      <td>30816</td>\n",
       "      <td>EL886370</td>\n",
       "      <td>641</td>\n",
       "      <td>221</td>\n",
       "      <td>128.00</td>\n",
       "      <td>EL886370</td>\n",
       "      <td>ug|EL886370</td>\n",
       "    </tr>\n",
       "    <tr>\n",
       "      <td>25233</td>\n",
       "      <td>38587</td>\n",
       "      <td>EL886429</td>\n",
       "      <td>1216</td>\n",
       "      <td>671</td>\n",
       "      <td>128.00</td>\n",
       "      <td>EL886429</td>\n",
       "      <td>ug|EL886429</td>\n",
       "    </tr>\n",
       "    <tr>\n",
       "      <td>25234</td>\n",
       "      <td>5279</td>\n",
       "      <td>EL886714</td>\n",
       "      <td>2930</td>\n",
       "      <td>1105</td>\n",
       "      <td>849.92</td>\n",
       "      <td>EL886714</td>\n",
       "      <td>ug|EL886714</td>\n",
       "    </tr>\n",
       "    <tr>\n",
       "      <td>25235</td>\n",
       "      <td>11175</td>\n",
       "      <td>EL887540</td>\n",
       "      <td>785</td>\n",
       "      <td>372</td>\n",
       "      <td>203.52</td>\n",
       "      <td>EL887540</td>\n",
       "      <td>ug|EL887540</td>\n",
       "    </tr>\n",
       "  </tbody>\n",
       "</table>\n",
       "<p>25236 rows × 7 columns</p>\n",
       "</div>"
      ],
      "text/plain": [
       "       refnum      name  pulse  chase1hr  chase3hr  genename  \\\n",
       "0        5901   AT01131   2002       422     85.76   AT01131   \n",
       "1       29553   AT02348  43443     20105   8256.00   AT02348   \n",
       "2       12848   AT02388   2919       975    101.12   AT02388   \n",
       "3       43738   AT03386   7401      2032    231.68   AT03386   \n",
       "4       44077   AT03646   3652       849    226.56   AT03646   \n",
       "...       ...       ...    ...       ...       ...       ...   \n",
       "25231   18516  EL886204  64434     44417  43558.40  EL886204   \n",
       "25232   30816  EL886370    641       221    128.00  EL886370   \n",
       "25233   38587  EL886429   1216       671    128.00  EL886429   \n",
       "25234    5279  EL886714   2930      1105    849.92  EL886714   \n",
       "25235   11175  EL887540    785       372    203.52  EL887540   \n",
       "\n",
       "                                    tophit  \n",
       "0      dgc|AT01131|gb|BT011567|tc|TC208615  \n",
       "1                  dgc|AT02348|gb|AY089228  \n",
       "2                  dgc|AT02388|gb|AY089232  \n",
       "3      dgc|AT03386|gb|AY084095|tc|TC212064  \n",
       "4                  dgc|AT03646|gb|AY089251  \n",
       "...                                    ...  \n",
       "25231                          ug|EL886204  \n",
       "25232                          ug|EL886370  \n",
       "25233                          ug|EL886429  \n",
       "25234                          ug|EL886714  \n",
       "25235                          ug|EL887540  \n",
       "\n",
       "[25236 rows x 7 columns]"
      ]
     },
     "execution_count": 198,
     "metadata": {},
     "output_type": "execute_result"
    }
   ],
   "source": [
    "df = pd.read_csv(\"actd.csv\",header=None,skiprows=1,names=['refnum','name','pulse','chase1hr','chase3hr','genename','tophit'])\n",
    "df"
   ]
  },
  {
   "cell_type": "markdown",
   "metadata": {},
   "source": [
    "## Inspecting a Pandas DataFrame\n",
    "What is code to pretty-print the top five records of the pandas DataFrame `df`?\n",
    "See [Data Frame](https://proquest.safaribooksonline.com/book/programming/python/9781491957653/getting-started-with-pandas/pandas_html#X2ludGVybmFsX0h0bWxWaWV3P3htbGlkPTk3ODE0OTE5NTc2NTMlMkZwYW5kYXNfZGF0YWZyYW1lX2h0bWwmcXVlcnk9aGVhZA==)"
   ]
  },
  {
   "cell_type": "code",
   "execution_count": 100,
   "metadata": {},
   "outputs": [
    {
     "data": {
      "text/html": [
       "<div>\n",
       "<style scoped>\n",
       "    .dataframe tbody tr th:only-of-type {\n",
       "        vertical-align: middle;\n",
       "    }\n",
       "\n",
       "    .dataframe tbody tr th {\n",
       "        vertical-align: top;\n",
       "    }\n",
       "\n",
       "    .dataframe thead th {\n",
       "        text-align: right;\n",
       "    }\n",
       "</style>\n",
       "<table border=\"1\" class=\"dataframe\">\n",
       "  <thead>\n",
       "    <tr style=\"text-align: right;\">\n",
       "      <th></th>\n",
       "      <th>refnum</th>\n",
       "      <th>name</th>\n",
       "      <th>pulse</th>\n",
       "      <th>chase1hr</th>\n",
       "      <th>chase3hr</th>\n",
       "      <th>genename</th>\n",
       "      <th>tophit</th>\n",
       "    </tr>\n",
       "  </thead>\n",
       "  <tbody>\n",
       "    <tr>\n",
       "      <td>0</td>\n",
       "      <td>5901</td>\n",
       "      <td>AT01131</td>\n",
       "      <td>2002</td>\n",
       "      <td>422</td>\n",
       "      <td>85.76</td>\n",
       "      <td>AT01131</td>\n",
       "      <td>dgc|AT01131|gb|BT011567|tc|TC208615</td>\n",
       "    </tr>\n",
       "    <tr>\n",
       "      <td>1</td>\n",
       "      <td>29553</td>\n",
       "      <td>AT02348</td>\n",
       "      <td>43443</td>\n",
       "      <td>20105</td>\n",
       "      <td>8256.00</td>\n",
       "      <td>AT02348</td>\n",
       "      <td>dgc|AT02348|gb|AY089228</td>\n",
       "    </tr>\n",
       "    <tr>\n",
       "      <td>2</td>\n",
       "      <td>12848</td>\n",
       "      <td>AT02388</td>\n",
       "      <td>2919</td>\n",
       "      <td>975</td>\n",
       "      <td>101.12</td>\n",
       "      <td>AT02388</td>\n",
       "      <td>dgc|AT02388|gb|AY089232</td>\n",
       "    </tr>\n",
       "    <tr>\n",
       "      <td>3</td>\n",
       "      <td>43738</td>\n",
       "      <td>AT03386</td>\n",
       "      <td>7401</td>\n",
       "      <td>2032</td>\n",
       "      <td>231.68</td>\n",
       "      <td>AT03386</td>\n",
       "      <td>dgc|AT03386|gb|AY084095|tc|TC212064</td>\n",
       "    </tr>\n",
       "    <tr>\n",
       "      <td>4</td>\n",
       "      <td>44077</td>\n",
       "      <td>AT03646</td>\n",
       "      <td>3652</td>\n",
       "      <td>849</td>\n",
       "      <td>226.56</td>\n",
       "      <td>AT03646</td>\n",
       "      <td>dgc|AT03646|gb|AY089251</td>\n",
       "    </tr>\n",
       "  </tbody>\n",
       "</table>\n",
       "</div>"
      ],
      "text/plain": [
       "   refnum     name  pulse  chase1hr  chase3hr genename  \\\n",
       "0    5901  AT01131   2002       422     85.76  AT01131   \n",
       "1   29553  AT02348  43443     20105   8256.00  AT02348   \n",
       "2   12848  AT02388   2919       975    101.12  AT02388   \n",
       "3   43738  AT03386   7401      2032    231.68  AT03386   \n",
       "4   44077  AT03646   3652       849    226.56  AT03646   \n",
       "\n",
       "                                tophit  \n",
       "0  dgc|AT01131|gb|BT011567|tc|TC208615  \n",
       "1              dgc|AT02348|gb|AY089228  \n",
       "2              dgc|AT02388|gb|AY089232  \n",
       "3  dgc|AT03386|gb|AY084095|tc|TC212064  \n",
       "4              dgc|AT03646|gb|AY089251  "
      ]
     },
     "execution_count": 100,
     "metadata": {},
     "output_type": "execute_result"
    }
   ],
   "source": [
    "df.head()"
   ]
  },
  {
   "cell_type": "markdown",
   "metadata": {},
   "source": [
    "## Summary Statistics for Numerical Columns of a Pandas DataFrame\n",
    "What single function is useful to get multiple summary statistics on all numeric data columns in the DataFrame `df`?\n",
    "See [5.3 Summarizing and Computing Descriptive Statistics](https://proquest.safaribooksonline.com/book/programming/python/9781491957653/firstchapter#X2ludGVybmFsX0h0bWxWaWV3P3htbGlkPTk3ODE0OTE5NTc2NTMlMkZwYW5kYXNfc3VtbWFyaXplX2h0bWwmcXVlcnk9KChweXRob24lMjBkYXRhKSk=)"
   ]
  },
  {
   "cell_type": "code",
   "execution_count": 101,
   "metadata": {},
   "outputs": [
    {
     "data": {
      "text/html": [
       "<div>\n",
       "<style scoped>\n",
       "    .dataframe tbody tr th:only-of-type {\n",
       "        vertical-align: middle;\n",
       "    }\n",
       "\n",
       "    .dataframe tbody tr th {\n",
       "        vertical-align: top;\n",
       "    }\n",
       "\n",
       "    .dataframe thead th {\n",
       "        text-align: right;\n",
       "    }\n",
       "</style>\n",
       "<table border=\"1\" class=\"dataframe\">\n",
       "  <thead>\n",
       "    <tr style=\"text-align: right;\">\n",
       "      <th></th>\n",
       "      <th>refnum</th>\n",
       "      <th>pulse</th>\n",
       "      <th>chase1hr</th>\n",
       "      <th>chase3hr</th>\n",
       "    </tr>\n",
       "  </thead>\n",
       "  <tbody>\n",
       "    <tr>\n",
       "      <td>count</td>\n",
       "      <td>25236.000000</td>\n",
       "      <td>25236.000000</td>\n",
       "      <td>25236.000000</td>\n",
       "      <td>25236.000000</td>\n",
       "    </tr>\n",
       "    <tr>\n",
       "      <td>mean</td>\n",
       "      <td>22916.575844</td>\n",
       "      <td>15009.836702</td>\n",
       "      <td>6109.390751</td>\n",
       "      <td>3104.028100</td>\n",
       "    </tr>\n",
       "    <tr>\n",
       "      <td>std</td>\n",
       "      <td>12802.863530</td>\n",
       "      <td>17743.270387</td>\n",
       "      <td>10820.826294</td>\n",
       "      <td>9372.956694</td>\n",
       "    </tr>\n",
       "    <tr>\n",
       "      <td>min</td>\n",
       "      <td>12.000000</td>\n",
       "      <td>600.000000</td>\n",
       "      <td>46.000000</td>\n",
       "      <td>-42.240000</td>\n",
       "    </tr>\n",
       "    <tr>\n",
       "      <td>25%</td>\n",
       "      <td>11918.750000</td>\n",
       "      <td>2167.000000</td>\n",
       "      <td>771.000000</td>\n",
       "      <td>273.920000</td>\n",
       "    </tr>\n",
       "    <tr>\n",
       "      <td>50%</td>\n",
       "      <td>23054.500000</td>\n",
       "      <td>7346.500000</td>\n",
       "      <td>2347.500000</td>\n",
       "      <td>801.280000</td>\n",
       "    </tr>\n",
       "    <tr>\n",
       "      <td>75%</td>\n",
       "      <td>34106.500000</td>\n",
       "      <td>20842.250000</td>\n",
       "      <td>6368.000000</td>\n",
       "      <td>2293.760000</td>\n",
       "    </tr>\n",
       "    <tr>\n",
       "      <td>max</td>\n",
       "      <td>45004.000000</td>\n",
       "      <td>65359.000000</td>\n",
       "      <td>65333.000000</td>\n",
       "      <td>83612.160000</td>\n",
       "    </tr>\n",
       "  </tbody>\n",
       "</table>\n",
       "</div>"
      ],
      "text/plain": [
       "             refnum         pulse      chase1hr      chase3hr\n",
       "count  25236.000000  25236.000000  25236.000000  25236.000000\n",
       "mean   22916.575844  15009.836702   6109.390751   3104.028100\n",
       "std    12802.863530  17743.270387  10820.826294   9372.956694\n",
       "min       12.000000    600.000000     46.000000    -42.240000\n",
       "25%    11918.750000   2167.000000    771.000000    273.920000\n",
       "50%    23054.500000   7346.500000   2347.500000    801.280000\n",
       "75%    34106.500000  20842.250000   6368.000000   2293.760000\n",
       "max    45004.000000  65359.000000  65333.000000  83612.160000"
      ]
     },
     "execution_count": 101,
     "metadata": {},
     "output_type": "execute_result"
    }
   ],
   "source": [
    "df.describe()"
   ]
  },
  {
   "cell_type": "markdown",
   "metadata": {},
   "source": [
    "## Selecting columns from a Pandas DataFrame by name\n",
    "How do you select and return only the fields/columns `pulse`,`chase1hr`,`chase3hr` from the DataFrame `df`?"
   ]
  },
  {
   "cell_type": "code",
   "execution_count": 142,
   "metadata": {},
   "outputs": [
    {
     "data": {
      "text/html": [
       "<div>\n",
       "<style scoped>\n",
       "    .dataframe tbody tr th:only-of-type {\n",
       "        vertical-align: middle;\n",
       "    }\n",
       "\n",
       "    .dataframe tbody tr th {\n",
       "        vertical-align: top;\n",
       "    }\n",
       "\n",
       "    .dataframe thead th {\n",
       "        text-align: right;\n",
       "    }\n",
       "</style>\n",
       "<table border=\"1\" class=\"dataframe\">\n",
       "  <thead>\n",
       "    <tr style=\"text-align: right;\">\n",
       "      <th></th>\n",
       "      <th>pulse</th>\n",
       "      <th>chase1hr</th>\n",
       "      <th>chase3hr</th>\n",
       "    </tr>\n",
       "  </thead>\n",
       "  <tbody>\n",
       "    <tr>\n",
       "      <td>0</td>\n",
       "      <td>2002</td>\n",
       "      <td>422</td>\n",
       "      <td>85.76</td>\n",
       "    </tr>\n",
       "    <tr>\n",
       "      <td>1</td>\n",
       "      <td>43443</td>\n",
       "      <td>20105</td>\n",
       "      <td>8256.00</td>\n",
       "    </tr>\n",
       "    <tr>\n",
       "      <td>2</td>\n",
       "      <td>2919</td>\n",
       "      <td>975</td>\n",
       "      <td>101.12</td>\n",
       "    </tr>\n",
       "    <tr>\n",
       "      <td>3</td>\n",
       "      <td>7401</td>\n",
       "      <td>2032</td>\n",
       "      <td>231.68</td>\n",
       "    </tr>\n",
       "    <tr>\n",
       "      <td>4</td>\n",
       "      <td>3652</td>\n",
       "      <td>849</td>\n",
       "      <td>226.56</td>\n",
       "    </tr>\n",
       "    <tr>\n",
       "      <td>...</td>\n",
       "      <td>...</td>\n",
       "      <td>...</td>\n",
       "      <td>...</td>\n",
       "    </tr>\n",
       "    <tr>\n",
       "      <td>25231</td>\n",
       "      <td>64434</td>\n",
       "      <td>44417</td>\n",
       "      <td>43558.40</td>\n",
       "    </tr>\n",
       "    <tr>\n",
       "      <td>25232</td>\n",
       "      <td>641</td>\n",
       "      <td>221</td>\n",
       "      <td>128.00</td>\n",
       "    </tr>\n",
       "    <tr>\n",
       "      <td>25233</td>\n",
       "      <td>1216</td>\n",
       "      <td>671</td>\n",
       "      <td>128.00</td>\n",
       "    </tr>\n",
       "    <tr>\n",
       "      <td>25234</td>\n",
       "      <td>2930</td>\n",
       "      <td>1105</td>\n",
       "      <td>849.92</td>\n",
       "    </tr>\n",
       "    <tr>\n",
       "      <td>25235</td>\n",
       "      <td>785</td>\n",
       "      <td>372</td>\n",
       "      <td>203.52</td>\n",
       "    </tr>\n",
       "  </tbody>\n",
       "</table>\n",
       "<p>25236 rows × 3 columns</p>\n",
       "</div>"
      ],
      "text/plain": [
       "       pulse  chase1hr  chase3hr\n",
       "0       2002       422     85.76\n",
       "1      43443     20105   8256.00\n",
       "2       2919       975    101.12\n",
       "3       7401      2032    231.68\n",
       "4       3652       849    226.56\n",
       "...      ...       ...       ...\n",
       "25231  64434     44417  43558.40\n",
       "25232    641       221    128.00\n",
       "25233   1216       671    128.00\n",
       "25234   2930      1105    849.92\n",
       "25235    785       372    203.52\n",
       "\n",
       "[25236 rows x 3 columns]"
      ]
     },
     "execution_count": 142,
     "metadata": {},
     "output_type": "execute_result"
    }
   ],
   "source": [
    "df.loc[:,['pulse','chase1hr','chase3hr']]"
   ]
  },
  {
   "cell_type": "markdown",
   "metadata": {},
   "source": [
    "## Plotting Densities and Pairwise Scatterplots from a Pandas DataFrame Using Seaborn \n",
    "See [Scatter or Point Plots] (https://proquest.safaribooksonline.com/book/programming/python/9781491957653/firstchapter#X2ludGVybmFsX0h0bWxWaWV3P3htbGlkPTk3ODE0OTE5NTc2NTMlMkZ2aXNfcGFuZGFzX3NwbG9tX2h0bWwmcXVlcnk9cGFpcnBsb3Q=)\n",
    "Make a Seaborn pairplot from the DataFrame `df` for the three fields `pulse`,`chase1hr`,`chase3hr` in three steps: import seaborn, allow inline plotting to your notebook with the magic command `%matplotlib inline`, and then pass `df` with only the three selected fields/columns `pulse`,`chase1hr`,`chase3hr` to the Seaborn class method that produces a pairplot. Experiment (by editing the cell and re-running with shift-enter) with passing additional parameters `diag_kind='kde', plot_kws={'alpha': 0.2}` to the plotting class method."
   ]
  },
  {
   "cell_type": "code",
   "execution_count": 154,
   "metadata": {},
   "outputs": [],
   "source": [
    "# import and magic statement here\n",
    "import seaborn as sns\n",
    "%matplotlib inline\n",
    "\n",
    "\n"
   ]
  },
  {
   "cell_type": "code",
   "execution_count": 159,
   "metadata": {},
   "outputs": [
    {
     "data": {
      "text/plain": [
       "<seaborn.axisgrid.PairGrid at 0x1218b9400>"
      ]
     },
     "execution_count": 159,
     "metadata": {},
     "output_type": "execute_result"
    },
    {
     "data": {
      "image/png": "[encoded data removed]",
      "text/plain": [
       "<Figure size 540x540 with 12 Axes>"
      ]
     },
     "metadata": {
      "needs_background": "light"
     },
     "output_type": "display_data"
    }
   ],
   "source": [
    "# seaborn plot command here\n",
    "hw3= df.loc[:,['pulse','chase1hr','chase3hr']]\n",
    "sns.pairplot(hw3,diag_kind='kde',plot_kws={'alpha': 0.5})"
   ]
  },
  {
   "cell_type": "markdown",
   "metadata": {},
   "source": [
    "# Introduction to Reading and Plotting data in R\n",
    "Download and install RStudio. \n",
    "\n",
    "## Make an R Notebook\n",
    "Open a New Project and associate it with your existing working directory for this homework.  After the project opens, open *New File $\\rightarrow$ R Notebook*. Press the \"play\" green button triangle in the existing code chunk to make it generate an inline plot in your notebook. Then, at the top of the notebook, replace:"
   ]
  },
  {
   "cell_type": "markdown",
   "metadata": {},
   "source": [
    "```\n",
    "---\n",
    "title: \"R Notebook\"\n",
    "output: html_notebook\n",
    "---\n",
    "```"
   ]
  },
  {
   "cell_type": "markdown",
   "metadata": {},
   "source": [
    "with"
   ]
  },
  {
   "cell_type": "markdown",
   "metadata": {},
   "source": [
    "```\n",
    "---\n",
    "title: \"QSB 282 Assignment 3\"\n",
    "author: \"Your Name\"\n",
    "date: \"`r format(Sys.time(), '%d %B, %Y')`\"\n",
    "output:\n",
    "  html_document:\n",
    "    highlight: tango\n",
    "    number_sections: yes\n",
    "    theme: united\n",
    "    toc: yes\n",
    "    toc_depth: 4\n",
    "  pdf_document:\n",
    "    number_sections: yes\n",
    "    toc: yes\n",
    "  word_document:\n",
    "    toc: yes\n",
    "editor_options:\n",
    "  chunk_output_type: inline\n",
    "---\n",
    "```"
   ]
  },
  {
   "cell_type": "markdown",
   "metadata": {},
   "source": [
    "## Add a Plot\n",
    "Down in the console of Rstudio, enter the command `demo (graphics)`. Hit `<return>` to page through different kinds of plots. Notice the code for the plots appears in the console. Pick a plot that you like, and copy-and-paste its code to generate that plot into a new code chunk at the end of your notebook. \n",
    "\n",
    "## Make a Scatterplot of Letter Frequencies from Two Different Books And Add it To Your R Notebook\n",
    "Modify the UNIX pipeline shown in \"Converting One-Liners into Shell Scripts\" from *Data Science at the Command Line*, by replacing the `grep` component with a Perl one-liner that splits all lines into characters, and prints all characters one per line, eventually filtering out all non-alphabetical characters so that the one-liner prints the frequencies of all 26 letters of the alphabet. Run your pipeline on two different books from the Gutenberg project, and save the results to two files. Use markdown to document the titles of the books you analyzed. Using either UNIX, R or a combination, find a way to integrate (combine) the frequency data for the two books over two columns in a table with rows for letters and columns for books, with a header that labels the books with a single string for each, and import this frequency table into R using the `read.table()` or `read.csv()` functions, ending up with an R data-frame that looks like:\n",
    "\n",
    "| letter  |  book1-label | book2-label  |\n",
    "|---|---|---|\n",
    "| a  |  freq-a-1 |  freq-a-2 |\n",
    "| b  |  freq-b-1 |  freq-b-2 |\n",
    "| c  |  freq-c-1 |  freq-c-2 |\n",
    "\n",
    "Now, in a new code chunk in your R Notebook, make a scatterplot of the frequency data for the two books. Then using a subsequent call to the `text()` function, label the points wth their corresponding letters. Export your notebook to HTML using the Knit button. \n"
   ]
  },
  {
   "cell_type": "code",
   "execution_count": 267,
   "metadata": {},
   "outputs": [
    {
     "name": "stdout",
     "output_type": "stream",
     "text": [
      "a,49190,60604\n",
      "b,9018,11621\n",
      "c,12048,21376\n",
      "d,27857,34189\n",
      "e,74196,99873\n",
      "f,11276,19929\n",
      "g,12644,13819\n",
      "h,41518,50583\n",
      "i,38568,50385\n",
      "j,718,1806\n",
      "k,6338,4528\n",
      "l,25622,27989\n",
      "m,14592,19248\n",
      "n,40036,51033\n",
      "o,42635,55912\n",
      "p,8352,14195\n",
      "q,573,757\n",
      "r,31378,47979\n",
      "s,36822,48576\n",
      "t,56869,71542\n",
      "u,16946,19919\n",
      "v,5102,6686\n",
      "w,15621,16626\n",
      "x,581,1138\n",
      "y,13445,13007\n",
      "z,196,400\n"
     ]
    }
   ],
   "source": [
    "%%bash\n",
    "curl -s https://www.gutenberg.org/files/60326/60326-0.txt |tr '[:upper:]' '[:lower:]'|grep -oE '[a-zA-Z]+'|perl -ne 'print join(\"\\n\", split //, $_)'|sort|uniq -c|sort -nr|tail -n 26|sort -k2|grep -oE '\\d+'> gutenbery1.csv\n",
    "#The book is Maradick at Forty A Transition and the frequencies are saved in file\n",
    "curl -s https://www.gutenberg.org/files/60319/60319-0.txt |tr '[:upper:]' '[:lower:]'|grep -oE '[a-zA-Z]+'|perl -ne 'print join(\"\\n\", split //, $_)'|sort|uniq -c|sort -nr|tail -n 26|sort -k2|grep -oE '\\d+'> gutenbery2.csv\n",
    "#The book is Jerusalem, the City of Herod and Saladin and the frequencies are saved in file\n",
    "echo {a..z}|tr \" \" \"\\n\" >letter.csv\n",
    "#create another file with a-z to labelled combined file\n",
    "paste letter.csv gutenbery1.csv gutenbery2.csv|tr \"\\t\" \",\" > gutenbery_all_labelled.csv\n",
    "#combine all the files"
   ]
  },
  {
   "cell_type": "code",
   "execution_count": 269,
   "metadata": {},
   "outputs": [
    {
     "data": {
      "text/html": [
       "<div>\n",
       "<style scoped>\n",
       "    .dataframe tbody tr th:only-of-type {\n",
       "        vertical-align: middle;\n",
       "    }\n",
       "\n",
       "    .dataframe tbody tr th {\n",
       "        vertical-align: top;\n",
       "    }\n",
       "\n",
       "    .dataframe thead th {\n",
       "        text-align: right;\n",
       "    }\n",
       "</style>\n",
       "<table border=\"1\" class=\"dataframe\">\n",
       "  <thead>\n",
       "    <tr style=\"text-align: right;\">\n",
       "      <th></th>\n",
       "      <th>Letter</th>\n",
       "      <th>Book1:MFT</th>\n",
       "      <th>Book2:JCHS</th>\n",
       "    </tr>\n",
       "  </thead>\n",
       "  <tbody>\n",
       "    <tr>\n",
       "      <td>0</td>\n",
       "      <td>a</td>\n",
       "      <td>49190</td>\n",
       "      <td>60604</td>\n",
       "    </tr>\n",
       "    <tr>\n",
       "      <td>1</td>\n",
       "      <td>b</td>\n",
       "      <td>9018</td>\n",
       "      <td>11621</td>\n",
       "    </tr>\n",
       "    <tr>\n",
       "      <td>2</td>\n",
       "      <td>c</td>\n",
       "      <td>12048</td>\n",
       "      <td>21376</td>\n",
       "    </tr>\n",
       "    <tr>\n",
       "      <td>3</td>\n",
       "      <td>d</td>\n",
       "      <td>27857</td>\n",
       "      <td>34189</td>\n",
       "    </tr>\n",
       "    <tr>\n",
       "      <td>4</td>\n",
       "      <td>e</td>\n",
       "      <td>74196</td>\n",
       "      <td>99873</td>\n",
       "    </tr>\n",
       "    <tr>\n",
       "      <td>5</td>\n",
       "      <td>f</td>\n",
       "      <td>11276</td>\n",
       "      <td>19929</td>\n",
       "    </tr>\n",
       "    <tr>\n",
       "      <td>6</td>\n",
       "      <td>g</td>\n",
       "      <td>12644</td>\n",
       "      <td>13819</td>\n",
       "    </tr>\n",
       "    <tr>\n",
       "      <td>7</td>\n",
       "      <td>h</td>\n",
       "      <td>41518</td>\n",
       "      <td>50583</td>\n",
       "    </tr>\n",
       "    <tr>\n",
       "      <td>8</td>\n",
       "      <td>i</td>\n",
       "      <td>38568</td>\n",
       "      <td>50385</td>\n",
       "    </tr>\n",
       "    <tr>\n",
       "      <td>9</td>\n",
       "      <td>j</td>\n",
       "      <td>718</td>\n",
       "      <td>1806</td>\n",
       "    </tr>\n",
       "    <tr>\n",
       "      <td>10</td>\n",
       "      <td>k</td>\n",
       "      <td>6338</td>\n",
       "      <td>4528</td>\n",
       "    </tr>\n",
       "    <tr>\n",
       "      <td>11</td>\n",
       "      <td>l</td>\n",
       "      <td>25622</td>\n",
       "      <td>27989</td>\n",
       "    </tr>\n",
       "    <tr>\n",
       "      <td>12</td>\n",
       "      <td>m</td>\n",
       "      <td>14592</td>\n",
       "      <td>19248</td>\n",
       "    </tr>\n",
       "    <tr>\n",
       "      <td>13</td>\n",
       "      <td>n</td>\n",
       "      <td>40036</td>\n",
       "      <td>51033</td>\n",
       "    </tr>\n",
       "    <tr>\n",
       "      <td>14</td>\n",
       "      <td>o</td>\n",
       "      <td>42635</td>\n",
       "      <td>55912</td>\n",
       "    </tr>\n",
       "    <tr>\n",
       "      <td>15</td>\n",
       "      <td>p</td>\n",
       "      <td>8352</td>\n",
       "      <td>14195</td>\n",
       "    </tr>\n",
       "    <tr>\n",
       "      <td>16</td>\n",
       "      <td>q</td>\n",
       "      <td>573</td>\n",
       "      <td>757</td>\n",
       "    </tr>\n",
       "    <tr>\n",
       "      <td>17</td>\n",
       "      <td>r</td>\n",
       "      <td>31378</td>\n",
       "      <td>47979</td>\n",
       "    </tr>\n",
       "    <tr>\n",
       "      <td>18</td>\n",
       "      <td>s</td>\n",
       "      <td>36822</td>\n",
       "      <td>48576</td>\n",
       "    </tr>\n",
       "    <tr>\n",
       "      <td>19</td>\n",
       "      <td>t</td>\n",
       "      <td>56869</td>\n",
       "      <td>71542</td>\n",
       "    </tr>\n",
       "    <tr>\n",
       "      <td>20</td>\n",
       "      <td>u</td>\n",
       "      <td>16946</td>\n",
       "      <td>19919</td>\n",
       "    </tr>\n",
       "    <tr>\n",
       "      <td>21</td>\n",
       "      <td>v</td>\n",
       "      <td>5102</td>\n",
       "      <td>6686</td>\n",
       "    </tr>\n",
       "    <tr>\n",
       "      <td>22</td>\n",
       "      <td>w</td>\n",
       "      <td>15621</td>\n",
       "      <td>16626</td>\n",
       "    </tr>\n",
       "    <tr>\n",
       "      <td>23</td>\n",
       "      <td>x</td>\n",
       "      <td>581</td>\n",
       "      <td>1138</td>\n",
       "    </tr>\n",
       "    <tr>\n",
       "      <td>24</td>\n",
       "      <td>y</td>\n",
       "      <td>13445</td>\n",
       "      <td>13007</td>\n",
       "    </tr>\n",
       "    <tr>\n",
       "      <td>25</td>\n",
       "      <td>z</td>\n",
       "      <td>196</td>\n",
       "      <td>400</td>\n",
       "    </tr>\n",
       "  </tbody>\n",
       "</table>\n",
       "</div>"
      ],
      "text/plain": [
       "   Letter  Book1:MFT  Book2:JCHS\n",
       "0       a      49190       60604\n",
       "1       b       9018       11621\n",
       "2       c      12048       21376\n",
       "3       d      27857       34189\n",
       "4       e      74196       99873\n",
       "5       f      11276       19929\n",
       "6       g      12644       13819\n",
       "7       h      41518       50583\n",
       "8       i      38568       50385\n",
       "9       j        718        1806\n",
       "10      k       6338        4528\n",
       "11      l      25622       27989\n",
       "12      m      14592       19248\n",
       "13      n      40036       51033\n",
       "14      o      42635       55912\n",
       "15      p       8352       14195\n",
       "16      q        573         757\n",
       "17      r      31378       47979\n",
       "18      s      36822       48576\n",
       "19      t      56869       71542\n",
       "20      u      16946       19919\n",
       "21      v       5102        6686\n",
       "22      w      15621       16626\n",
       "23      x        581        1138\n",
       "24      y      13445       13007\n",
       "25      z        196         400"
      ]
     },
     "execution_count": 269,
     "metadata": {},
     "output_type": "execute_result"
    }
   ],
   "source": [
    "fd1= pd.read_csv(\"gutenbery_all_labelled.csv\",names=['Letter','Book1:MFT','Book2:JCHS'])\n",
    "fd1"
   ]
  },
  {
   "cell_type": "code",
   "execution_count": null,
   "metadata": {},
   "outputs": [],
   "source": []
  }
 ],
 "metadata": {
  "kernelspec": {
   "display_name": "Python 3",
   "language": "python",
   "name": "python3"
  },
  "language_info": {
   "codemirror_mode": {
    "name": "ipython",
    "version": 3
   },
   "file_extension": ".py",
   "mimetype": "text/x-python",
   "name": "python",
   "nbconvert_exporter": "python",
   "pygments_lexer": "ipython3",
   "version": "3.7.3"
  },
  "toc-autonumbering": true
 },
 "nbformat": 4,
 "nbformat_minor": 4
}
